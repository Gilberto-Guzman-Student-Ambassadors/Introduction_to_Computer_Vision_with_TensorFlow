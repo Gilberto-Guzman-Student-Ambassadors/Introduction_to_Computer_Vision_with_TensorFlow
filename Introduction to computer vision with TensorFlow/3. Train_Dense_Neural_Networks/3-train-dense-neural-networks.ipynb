{
  "cells": [
    {
      "cell_type": "markdown",
      "metadata": {},
      "source": [
        "# Training a dense neural network\n",
        "\n",
        "The handwritten digit recognition is a classification problem. We will start with the simplest possible approach for image classification - a fully-connected neural network (which is also called a *perceptron*). First, let's start with quickly loading and normalizing the dataset, as we have done in the previous unit:\n",
        "\n",
        "<br>\n",
        "\n",
        "---\n",
        "---\n",
        "---\n",
        "\n",
        "<br>\n",
        "\n",
        "# Entrenamiento de una red neuronal densa\n",
        "\n",
        "El reconocimiento de dígitos escritos a mano es un problema de clasificación. Comenzaremos con el enfoque más simple posible para la clasificación de imágenes: una red neuronal completamente conectada (que también se llama *perceptrón*). Primero, comencemos cargando y normalizando rápidamente el conjunto de datos, como lo hemos hecho en la unidad anterior:\n"
      ]
    },
    {
      "cell_type": "code",
      "execution_count": 1,
      "metadata": {
        "collapsed": true,
        "jupyter": {
          "outputs_hidden": false,
          "source_hidden": false
        },
        "nteract": {
          "transient": {
            "deleting": false
          }
        }
      },
      "outputs": [
        {
          "name": "stdout",
          "output_type": "stream",
          "text": [
            "Requirement already satisfied: tensorflow in c:\\proyectos_de_acceso_rapido\\tensorflow_fundamentals\\.venv\\lib\\site-packages (2.17.0)\n",
            "Requirement already satisfied: tensorflow-intel==2.17.0 in c:\\proyectos_de_acceso_rapido\\tensorflow_fundamentals\\.venv\\lib\\site-packages (from tensorflow) (2.17.0)\n",
            "Requirement already satisfied: absl-py>=1.0.0 in c:\\proyectos_de_acceso_rapido\\tensorflow_fundamentals\\.venv\\lib\\site-packages (from tensorflow-intel==2.17.0->tensorflow) (2.1.0)\n",
            "Requirement already satisfied: astunparse>=1.6.0 in c:\\proyectos_de_acceso_rapido\\tensorflow_fundamentals\\.venv\\lib\\site-packages (from tensorflow-intel==2.17.0->tensorflow) (1.6.3)\n",
            "Requirement already satisfied: flatbuffers>=24.3.25 in c:\\proyectos_de_acceso_rapido\\tensorflow_fundamentals\\.venv\\lib\\site-packages (from tensorflow-intel==2.17.0->tensorflow) (24.3.25)\n",
            "Requirement already satisfied: gast!=0.5.0,!=0.5.1,!=0.5.2,>=0.2.1 in c:\\proyectos_de_acceso_rapido\\tensorflow_fundamentals\\.venv\\lib\\site-packages (from tensorflow-intel==2.17.0->tensorflow) (0.6.0)\n",
            "Requirement already satisfied: google-pasta>=0.1.1 in c:\\proyectos_de_acceso_rapido\\tensorflow_fundamentals\\.venv\\lib\\site-packages (from tensorflow-intel==2.17.0->tensorflow) (0.2.0)\n",
            "Requirement already satisfied: h5py>=3.10.0 in c:\\proyectos_de_acceso_rapido\\tensorflow_fundamentals\\.venv\\lib\\site-packages (from tensorflow-intel==2.17.0->tensorflow) (3.11.0)\n",
            "Requirement already satisfied: libclang>=13.0.0 in c:\\proyectos_de_acceso_rapido\\tensorflow_fundamentals\\.venv\\lib\\site-packages (from tensorflow-intel==2.17.0->tensorflow) (18.1.1)\n",
            "Requirement already satisfied: ml-dtypes<0.5.0,>=0.3.1 in c:\\proyectos_de_acceso_rapido\\tensorflow_fundamentals\\.venv\\lib\\site-packages (from tensorflow-intel==2.17.0->tensorflow) (0.4.0)\n",
            "Requirement already satisfied: opt-einsum>=2.3.2 in c:\\proyectos_de_acceso_rapido\\tensorflow_fundamentals\\.venv\\lib\\site-packages (from tensorflow-intel==2.17.0->tensorflow) (3.3.0)\n",
            "Requirement already satisfied: packaging in c:\\proyectos_de_acceso_rapido\\tensorflow_fundamentals\\.venv\\lib\\site-packages (from tensorflow-intel==2.17.0->tensorflow) (24.1)\n",
            "Requirement already satisfied: protobuf!=4.21.0,!=4.21.1,!=4.21.2,!=4.21.3,!=4.21.4,!=4.21.5,<5.0.0dev,>=3.20.3 in c:\\proyectos_de_acceso_rapido\\tensorflow_fundamentals\\.venv\\lib\\site-packages (from tensorflow-intel==2.17.0->tensorflow) (4.25.4)\n",
            "Requirement already satisfied: requests<3,>=2.21.0 in c:\\proyectos_de_acceso_rapido\\tensorflow_fundamentals\\.venv\\lib\\site-packages (from tensorflow-intel==2.17.0->tensorflow) (2.32.3)\n",
            "Requirement already satisfied: setuptools in c:\\proyectos_de_acceso_rapido\\tensorflow_fundamentals\\.venv\\lib\\site-packages (from tensorflow-intel==2.17.0->tensorflow) (72.1.0)\n",
            "Requirement already satisfied: six>=1.12.0 in c:\\proyectos_de_acceso_rapido\\tensorflow_fundamentals\\.venv\\lib\\site-packages (from tensorflow-intel==2.17.0->tensorflow) (1.16.0)\n",
            "Requirement already satisfied: termcolor>=1.1.0 in c:\\proyectos_de_acceso_rapido\\tensorflow_fundamentals\\.venv\\lib\\site-packages (from tensorflow-intel==2.17.0->tensorflow) (2.4.0)\n",
            "Requirement already satisfied: typing-extensions>=3.6.6 in c:\\proyectos_de_acceso_rapido\\tensorflow_fundamentals\\.venv\\lib\\site-packages (from tensorflow-intel==2.17.0->tensorflow) (4.12.2)\n",
            "Requirement already satisfied: wrapt>=1.11.0 in c:\\proyectos_de_acceso_rapido\\tensorflow_fundamentals\\.venv\\lib\\site-packages (from tensorflow-intel==2.17.0->tensorflow) (1.16.0)\n",
            "Requirement already satisfied: grpcio<2.0,>=1.24.3 in c:\\proyectos_de_acceso_rapido\\tensorflow_fundamentals\\.venv\\lib\\site-packages (from tensorflow-intel==2.17.0->tensorflow) (1.65.4)\n",
            "Requirement already satisfied: tensorboard<2.18,>=2.17 in c:\\proyectos_de_acceso_rapido\\tensorflow_fundamentals\\.venv\\lib\\site-packages (from tensorflow-intel==2.17.0->tensorflow) (2.17.0)\n",
            "Requirement already satisfied: keras>=3.2.0 in c:\\proyectos_de_acceso_rapido\\tensorflow_fundamentals\\.venv\\lib\\site-packages (from tensorflow-intel==2.17.0->tensorflow) (3.5.0)\n",
            "Requirement already satisfied: numpy<2.0.0,>=1.26.0 in c:\\proyectos_de_acceso_rapido\\tensorflow_fundamentals\\.venv\\lib\\site-packages (from tensorflow-intel==2.17.0->tensorflow) (1.26.4)\n",
            "Requirement already satisfied: wheel<1.0,>=0.23.0 in c:\\proyectos_de_acceso_rapido\\tensorflow_fundamentals\\.venv\\lib\\site-packages (from astunparse>=1.6.0->tensorflow-intel==2.17.0->tensorflow) (0.44.0)\n",
            "Requirement already satisfied: rich in c:\\proyectos_de_acceso_rapido\\tensorflow_fundamentals\\.venv\\lib\\site-packages (from keras>=3.2.0->tensorflow-intel==2.17.0->tensorflow) (13.7.1)\n",
            "Requirement already satisfied: namex in c:\\proyectos_de_acceso_rapido\\tensorflow_fundamentals\\.venv\\lib\\site-packages (from keras>=3.2.0->tensorflow-intel==2.17.0->tensorflow) (0.0.8)\n",
            "Requirement already satisfied: optree in c:\\proyectos_de_acceso_rapido\\tensorflow_fundamentals\\.venv\\lib\\site-packages (from keras>=3.2.0->tensorflow-intel==2.17.0->tensorflow) (0.12.1)\n",
            "Requirement already satisfied: charset-normalizer<4,>=2 in c:\\proyectos_de_acceso_rapido\\tensorflow_fundamentals\\.venv\\lib\\site-packages (from requests<3,>=2.21.0->tensorflow-intel==2.17.0->tensorflow) (3.3.2)\n",
            "Requirement already satisfied: idna<4,>=2.5 in c:\\proyectos_de_acceso_rapido\\tensorflow_fundamentals\\.venv\\lib\\site-packages (from requests<3,>=2.21.0->tensorflow-intel==2.17.0->tensorflow) (3.7)\n",
            "Requirement already satisfied: urllib3<3,>=1.21.1 in c:\\proyectos_de_acceso_rapido\\tensorflow_fundamentals\\.venv\\lib\\site-packages (from requests<3,>=2.21.0->tensorflow-intel==2.17.0->tensorflow) (2.2.2)\n",
            "Requirement already satisfied: certifi>=2017.4.17 in c:\\proyectos_de_acceso_rapido\\tensorflow_fundamentals\\.venv\\lib\\site-packages (from requests<3,>=2.21.0->tensorflow-intel==2.17.0->tensorflow) (2024.7.4)\n",
            "Requirement already satisfied: markdown>=2.6.8 in c:\\proyectos_de_acceso_rapido\\tensorflow_fundamentals\\.venv\\lib\\site-packages (from tensorboard<2.18,>=2.17->tensorflow-intel==2.17.0->tensorflow) (3.6)\n",
            "Requirement already satisfied: tensorboard-data-server<0.8.0,>=0.7.0 in c:\\proyectos_de_acceso_rapido\\tensorflow_fundamentals\\.venv\\lib\\site-packages (from tensorboard<2.18,>=2.17->tensorflow-intel==2.17.0->tensorflow) (0.7.2)\n",
            "Requirement already satisfied: werkzeug>=1.0.1 in c:\\proyectos_de_acceso_rapido\\tensorflow_fundamentals\\.venv\\lib\\site-packages (from tensorboard<2.18,>=2.17->tensorflow-intel==2.17.0->tensorflow) (3.0.3)\n",
            "Requirement already satisfied: MarkupSafe>=2.1.1 in c:\\proyectos_de_acceso_rapido\\tensorflow_fundamentals\\.venv\\lib\\site-packages (from werkzeug>=1.0.1->tensorboard<2.18,>=2.17->tensorflow-intel==2.17.0->tensorflow) (2.1.5)\n",
            "Requirement already satisfied: markdown-it-py>=2.2.0 in c:\\proyectos_de_acceso_rapido\\tensorflow_fundamentals\\.venv\\lib\\site-packages (from rich->keras>=3.2.0->tensorflow-intel==2.17.0->tensorflow) (3.0.0)\n",
            "Requirement already satisfied: pygments<3.0.0,>=2.13.0 in c:\\proyectos_de_acceso_rapido\\tensorflow_fundamentals\\.venv\\lib\\site-packages (from rich->keras>=3.2.0->tensorflow-intel==2.17.0->tensorflow) (2.18.0)\n",
            "Requirement already satisfied: mdurl~=0.1 in c:\\proyectos_de_acceso_rapido\\tensorflow_fundamentals\\.venv\\lib\\site-packages (from markdown-it-py>=2.2.0->rich->keras>=3.2.0->tensorflow-intel==2.17.0->tensorflow) (0.1.2)\n",
            "Note: you may need to restart the kernel to use updated packages.\n",
            "Requirement already satisfied: matplotlib in c:\\proyectos_de_acceso_rapido\\tensorflow_fundamentals\\.venv\\lib\\site-packages (3.9.2)\n",
            "Requirement already satisfied: contourpy>=1.0.1 in c:\\proyectos_de_acceso_rapido\\tensorflow_fundamentals\\.venv\\lib\\site-packages (from matplotlib) (1.2.1)\n",
            "Requirement already satisfied: cycler>=0.10 in c:\\proyectos_de_acceso_rapido\\tensorflow_fundamentals\\.venv\\lib\\site-packages (from matplotlib) (0.12.1)\n",
            "Requirement already satisfied: fonttools>=4.22.0 in c:\\proyectos_de_acceso_rapido\\tensorflow_fundamentals\\.venv\\lib\\site-packages (from matplotlib) (4.53.1)\n",
            "Requirement already satisfied: kiwisolver>=1.3.1 in c:\\proyectos_de_acceso_rapido\\tensorflow_fundamentals\\.venv\\lib\\site-packages (from matplotlib) (1.4.5)\n",
            "Requirement already satisfied: numpy>=1.23 in c:\\proyectos_de_acceso_rapido\\tensorflow_fundamentals\\.venv\\lib\\site-packages (from matplotlib) (1.26.4)\n",
            "Requirement already satisfied: packaging>=20.0 in c:\\proyectos_de_acceso_rapido\\tensorflow_fundamentals\\.venv\\lib\\site-packages (from matplotlib) (24.1)\n",
            "Requirement already satisfied: pillow>=8 in c:\\proyectos_de_acceso_rapido\\tensorflow_fundamentals\\.venv\\lib\\site-packages (from matplotlib) (10.4.0)\n",
            "Requirement already satisfied: pyparsing>=2.3.1 in c:\\proyectos_de_acceso_rapido\\tensorflow_fundamentals\\.venv\\lib\\site-packages (from matplotlib) (3.1.2)\n",
            "Requirement already satisfied: python-dateutil>=2.7 in c:\\proyectos_de_acceso_rapido\\tensorflow_fundamentals\\.venv\\lib\\site-packages (from matplotlib) (2.9.0.post0)\n",
            "Requirement already satisfied: six>=1.5 in c:\\proyectos_de_acceso_rapido\\tensorflow_fundamentals\\.venv\\lib\\site-packages (from python-dateutil>=2.7->matplotlib) (1.16.0)\n",
            "Note: you may need to restart the kernel to use updated packages.\n",
            "Requirement already satisfied: numpy in c:\\proyectos_de_acceso_rapido\\tensorflow_fundamentals\\.venv\\lib\\site-packages (1.26.4)\n",
            "Note: you may need to restart the kernel to use updated packages.\n",
            "Requirement already satisfied: setuptools in c:\\proyectos_de_acceso_rapido\\tensorflow_fundamentals\\.venv\\lib\\site-packages (72.1.0)\n",
            "Note: you may need to restart the kernel to use updated packages.\n"
          ]
        },
        {
          "name": "stderr",
          "output_type": "stream",
          "text": [
            "ERROR: Could not find a version that satisfies the requirement distutils (from versions: none)\n",
            "ERROR: No matching distribution found for distutils\n"
          ]
        },
        {
          "name": "stdout",
          "output_type": "stream",
          "text": [
            "Note: you may need to restart the kernel to use updated packages.\n"
          ]
        }
      ],
      "source": [
        "%pip install tensorflow\n",
        "%pip install matplotlib\n",
        "%pip install numpy\n",
        "%pip install setuptools\n",
        "%pip install distutils\n",
        "\n",
        "import tensorflow as tf\n",
        "from tensorflow import keras\n",
        "import matplotlib.pyplot as plt\n",
        "import numpy as np\n",
        "\n",
        "# In this tutorial, we will be training a lot of models. In order to use GPU memory cautiously,\n",
        "# we will set tensorflow option to grow GPU memory allocation when required.\n",
        "physical_devices = tf.config.list_physical_devices('GPU') \n",
        "if len(physical_devices)>0:\n",
        "    tf.config.experimental.set_memory_growth(physical_devices[0], True)\n"
      ]
    },
    {
      "cell_type": "code",
      "execution_count": 2,
      "metadata": {},
      "outputs": [
        {
          "name": "stdout",
          "output_type": "stream",
          "text": [
            "Archivo descargado en: c:\\Proyectos_De_Acceso_Rapido\\TensorFlow_Fundamentals\\Train_Dense_Neural_Networks\\mnist.npz\n"
          ]
        }
      ],
      "source": [
        "# Pre-fetch the data when running in sandbox environment\n",
        "# Obtención previa de los datos cuando se ejecuta en un entorno aislado (sandbox)\n",
        "\n",
        "import os\n",
        "import requests\n",
        "\n",
        "# Create the directory if it does not exist\n",
        "# Crear el directorio si no existe\n",
        "\n",
        "# directory = os.path.expanduser('~/.keras/datasets')\n",
        "\n",
        "directory = os.path.dirname(os.path.abspath('3-train-dense-neural-networks.ipynb'))\n",
        "os.makedirs(directory, exist_ok=True)\n",
        "\n",
        "# Download the file\n",
        "# Descargar el archivo\n",
        "\n",
        "url = 'https://github.com/MicrosoftDocs/tensorflowfundamentals/raw/main/data/mnist.npz'\n",
        "response = requests.get(url)\n",
        "file_path = os.path.join(directory, 'mnist.npz')\n",
        "\n",
        "with open(file_path, 'wb') as file:\n",
        "    file.write(response.content)\n",
        "\n",
        "print(f'Archivo descargado en: {file_path}')"
      ]
    },
    {
      "cell_type": "code",
      "execution_count": 3,
      "metadata": {},
      "outputs": [],
      "source": [
        "(x_train,y_train),(x_test,y_test) = keras.datasets.mnist.load_data() \n",
        "x_train = x_train.astype(np.float32) / 255.0\n",
        "x_test = x_test.astype(np.float32) / 255.0"
      ]
    },
    {
      "cell_type": "markdown",
      "metadata": {},
      "source": [
        "## Fully-connected dense neural networks\n",
        "\n",
        "A basic **neural network** consists of a number of **layers**. The simplest network would include just one fully-connected layer, which is called **Dense** layer, with 784 inputs (one input for each pixel of the input image) and 10 outputs (one output for each class). It is called dense because it contains all possible connections between 784 inputs and 10 outputs, 7840 total connections.\n",
        "\n",
        "![Dense Neural Network Structure](notebooks/images/dense-one-layer-network.png)\n",
        "\n",
        "As we discussed above, the dimension of our digit images is $28\\times28$. Because the input dimension of a fully-connected layer is 784, we need to insert another layer into the network, called **Flatten**, to change tensor shape from $28\\times28$ to $784$.\n",
        "\n",
        "We want $n$-th output of the network to return the probability of the input digit being equal to $n$. Because the output of a fully-connected layer is not normalized to be between 0 and 1, it cannot be thought of as probability. To turn it into a probability we need to apply another layer called **Softmax**.\n",
        "\n",
        "The architecture of our network can be represented by the following sequence of layers:\n",
        "\n",
        "![An image showing the architecture of the network broken into a sequence of layers.](notebooks/images/one-layer-network-layers.png)\n",
        "\n",
        "It can be defined in Keras in the following way, using `Sequential` syntax:\n",
        "\n",
        "<br>\n",
        "\n",
        "---\n",
        "---\n",
        "---\n",
        "\n",
        "<br>\n",
        "\n",
        "## Redes neuronales densas completamente conectadas\n",
        "\n",
        "Una **red neuronal** básica consiste en un número de **capas**. La red más simple incluiría solo una capa completamente conectada, que se llama capa **Densa**, con 784 entradas (una entrada para cada píxel de la imagen de entrada) y 10 salidas (una salida para cada clase). Se llama densa porque contiene todas las conexiones posibles entre las 784 entradas y las 10 salidas, un total de 7840 conexiones.\n",
        "\n",
        "![Estructura de Red Neuronal Densa](notebooks/images/dense-one-layer-network.png)\n",
        "\n",
        "Como discutimos anteriormente, la dimensión de nuestras imágenes de dígitos es $28\\times28$. Dado que la dimensión de entrada de una capa completamente conectada es 784, necesitamos insertar otra capa en la red, llamada **Flatten**, para cambiar la forma del tensor de $28\\times28$ a $784$.\n",
        "\n",
        "Queremos que la $n$-ésima salida de la red devuelva la probabilidad de que el dígito de entrada sea igual a $n$. Dado que la salida de una capa completamente conectada no está normalizada entre 0 y 1, no se puede considerar como una probabilidad. Para convertirla en una probabilidad, necesitamos aplicar otra capa llamada **Softmax**.\n",
        "\n",
        "La arquitectura de nuestra red se puede representar con la siguiente secuencia de capas:\n",
        "\n",
        "![Una imagen que muestra la arquitectura de la red desglosada en una secuencia de capas.](notebooks/images/one-layer-network-layers.png)\n",
        "\n",
        "Se puede definir en Keras de la siguiente manera, utilizando la sintaxis `Sequential`:\n"
      ]
    },
    {
      "cell_type": "code",
      "execution_count": 4,
      "metadata": {
        "collapsed": true,
        "jupyter": {
          "outputs_hidden": false,
          "source_hidden": false
        },
        "nteract": {
          "transient": {
            "deleting": false
          }
        }
      },
      "outputs": [
        {
          "name": "stderr",
          "output_type": "stream",
          "text": [
            "c:\\Proyectos_De_Acceso_Rapido\\TensorFlow_Fundamentals\\.venv\\Lib\\site-packages\\keras\\src\\layers\\reshaping\\flatten.py:37: UserWarning: Do not pass an `input_shape`/`input_dim` argument to a layer. When using Sequential models, prefer using an `Input(shape)` object as the first layer in the model instead.\n",
            "  super().__init__(**kwargs)\n"
          ]
        },
        {
          "data": {
            "text/html": [
              "<pre style=\"white-space:pre;overflow-x:auto;line-height:normal;font-family:Menlo,'DejaVu Sans Mono',consolas,'Courier New',monospace\"><span style=\"font-weight: bold\">Model: \"sequential\"</span>\n",
              "</pre>\n"
            ],
            "text/plain": [
              "\u001b[1mModel: \"sequential\"\u001b[0m\n"
            ]
          },
          "metadata": {},
          "output_type": "display_data"
        },
        {
          "data": {
            "text/html": [
              "<pre style=\"white-space:pre;overflow-x:auto;line-height:normal;font-family:Menlo,'DejaVu Sans Mono',consolas,'Courier New',monospace\">┏━━━━━━━━━━━━━━━━━━━━━━━━━━━━━━━━━┳━━━━━━━━━━━━━━━━━━━━━━━━┳━━━━━━━━━━━━━━━┓\n",
              "┃<span style=\"font-weight: bold\"> Layer (type)                    </span>┃<span style=\"font-weight: bold\"> Output Shape           </span>┃<span style=\"font-weight: bold\">       Param # </span>┃\n",
              "┡━━━━━━━━━━━━━━━━━━━━━━━━━━━━━━━━━╇━━━━━━━━━━━━━━━━━━━━━━━━╇━━━━━━━━━━━━━━━┩\n",
              "│ flatten (<span style=\"color: #0087ff; text-decoration-color: #0087ff\">Flatten</span>)               │ (<span style=\"color: #00d7ff; text-decoration-color: #00d7ff\">None</span>, <span style=\"color: #00af00; text-decoration-color: #00af00\">784</span>)            │             <span style=\"color: #00af00; text-decoration-color: #00af00\">0</span> │\n",
              "├─────────────────────────────────┼────────────────────────┼───────────────┤\n",
              "│ dense (<span style=\"color: #0087ff; text-decoration-color: #0087ff\">Dense</span>)                   │ (<span style=\"color: #00d7ff; text-decoration-color: #00d7ff\">None</span>, <span style=\"color: #00af00; text-decoration-color: #00af00\">10</span>)             │         <span style=\"color: #00af00; text-decoration-color: #00af00\">7,850</span> │\n",
              "└─────────────────────────────────┴────────────────────────┴───────────────┘\n",
              "</pre>\n"
            ],
            "text/plain": [
              "┏━━━━━━━━━━━━━━━━━━━━━━━━━━━━━━━━━┳━━━━━━━━━━━━━━━━━━━━━━━━┳━━━━━━━━━━━━━━━┓\n",
              "┃\u001b[1m \u001b[0m\u001b[1mLayer (type)                   \u001b[0m\u001b[1m \u001b[0m┃\u001b[1m \u001b[0m\u001b[1mOutput Shape          \u001b[0m\u001b[1m \u001b[0m┃\u001b[1m \u001b[0m\u001b[1m      Param #\u001b[0m\u001b[1m \u001b[0m┃\n",
              "┡━━━━━━━━━━━━━━━━━━━━━━━━━━━━━━━━━╇━━━━━━━━━━━━━━━━━━━━━━━━╇━━━━━━━━━━━━━━━┩\n",
              "│ flatten (\u001b[38;5;33mFlatten\u001b[0m)               │ (\u001b[38;5;45mNone\u001b[0m, \u001b[38;5;34m784\u001b[0m)            │             \u001b[38;5;34m0\u001b[0m │\n",
              "├─────────────────────────────────┼────────────────────────┼───────────────┤\n",
              "│ dense (\u001b[38;5;33mDense\u001b[0m)                   │ (\u001b[38;5;45mNone\u001b[0m, \u001b[38;5;34m10\u001b[0m)             │         \u001b[38;5;34m7,850\u001b[0m │\n",
              "└─────────────────────────────────┴────────────────────────┴───────────────┘\n"
            ]
          },
          "metadata": {},
          "output_type": "display_data"
        },
        {
          "data": {
            "text/html": [
              "<pre style=\"white-space:pre;overflow-x:auto;line-height:normal;font-family:Menlo,'DejaVu Sans Mono',consolas,'Courier New',monospace\"><span style=\"font-weight: bold\"> Total params: </span><span style=\"color: #00af00; text-decoration-color: #00af00\">7,850</span> (30.66 KB)\n",
              "</pre>\n"
            ],
            "text/plain": [
              "\u001b[1m Total params: \u001b[0m\u001b[38;5;34m7,850\u001b[0m (30.66 KB)\n"
            ]
          },
          "metadata": {},
          "output_type": "display_data"
        },
        {
          "data": {
            "text/html": [
              "<pre style=\"white-space:pre;overflow-x:auto;line-height:normal;font-family:Menlo,'DejaVu Sans Mono',consolas,'Courier New',monospace\"><span style=\"font-weight: bold\"> Trainable params: </span><span style=\"color: #00af00; text-decoration-color: #00af00\">7,850</span> (30.66 KB)\n",
              "</pre>\n"
            ],
            "text/plain": [
              "\u001b[1m Trainable params: \u001b[0m\u001b[38;5;34m7,850\u001b[0m (30.66 KB)\n"
            ]
          },
          "metadata": {},
          "output_type": "display_data"
        },
        {
          "data": {
            "text/html": [
              "<pre style=\"white-space:pre;overflow-x:auto;line-height:normal;font-family:Menlo,'DejaVu Sans Mono',consolas,'Courier New',monospace\"><span style=\"font-weight: bold\"> Non-trainable params: </span><span style=\"color: #00af00; text-decoration-color: #00af00\">0</span> (0.00 B)\n",
              "</pre>\n"
            ],
            "text/plain": [
              "\u001b[1m Non-trainable params: \u001b[0m\u001b[38;5;34m0\u001b[0m (0.00 B)\n"
            ]
          },
          "metadata": {},
          "output_type": "display_data"
        }
      ],
      "source": [
        "model = keras.models.Sequential([\n",
        "        keras.layers.Flatten(input_shape=(28,28)), \n",
        "        keras.layers.Dense(10,activation='softmax')])\n",
        "model.summary()"
      ]
    },
    {
      "cell_type": "markdown",
      "metadata": {},
      "source": [
        "Once you have defined a network, you can call the `summary` method to display its architecture and other useful information, such as number of parameters in each layer.\n",
        "\n",
        "When defining a network, it is important to remember to specify the dimension of the input tensor with the `input_shape` parameter. If you do not do that, Keras is unable to understand how many neurons are required to construct each layer. If `input_shape` is not provided you can still train the network but the summary will be incomplete.\n",
        "\n",
        "## Anatomy of a Dense Layer\n",
        "\n",
        "I have mentioned above that a dense layer contains 7840 weighted connections, however, in the `summary` above we see that our dense layer has 7850 parameters. Let's take some time to understand why.\n",
        "\n",
        "The network input contains 784 pixels, which can be represented by a vector $x$ with 784 numbers. To get an output $z$ of dimension 10 we can multiply it by a matrix $W$ with dimensions $10\\times784$: $z=W\\times x$.\n",
        "\n",
        "However, such multiplication defines a linear transformation without shift. Imagine we had only one input value, then the matrix would have just one weight, and the equation $W\\times x$ would represent a straight line which goes through the point $(0,0)$. This would not be able to perform arbitrary classifications, because in some cases we also want some **shift** to happen. That means that we need a full equation for a straight line: $z=W\\times x + b$, where $b$ is the **bias**.\n",
        "\n",
        "Similarly, in a dense layer with 784 inputs and 10 outputs, the output would be calculated as $W\\times x + b$, where the dimension of **weight** matrix $W$ is $784\\times 10$, and the dimension of a **bias** vector $b$ is 10. This gives us $784\\times 10 + 10 = 7850$ parameters. \n",
        "\n",
        "In Keras, we can get the weight matrix and bias from the `layers` property. Our dense layer is a second layer from the top, thus it can be access using `model.layers[1]`.\n",
        "\n",
        "<br>\n",
        "\n",
        "---\n",
        "---\n",
        "---\n",
        "\n",
        "<br>\n",
        "\n",
        "Una vez que hayas definido una red, puedes llamar al método `summary` para mostrar su arquitectura y otra información útil, como el número de parámetros en cada capa.\n",
        "\n",
        "Al definir una red, es importante recordar especificar la dimensión del tensor de entrada con el parámetro `input_shape`. Si no lo haces, Keras no podrá entender cuántas neuronas se necesitan para construir cada capa. Si no se proporciona `input_shape`, aún puedes entrenar la red, pero el resumen estará incompleto.\n",
        "\n",
        "## Anatomía de una Capa Densa\n",
        "\n",
        "Mencioné anteriormente que una capa densa contiene 7840 conexiones ponderadas, sin embargo, en el `summary` anterior vemos que nuestra capa densa tiene 7850 parámetros. Tomemos un momento para entender por qué.\n",
        "\n",
        "La entrada de la red contiene 784 píxeles, que se pueden representar mediante un vector $x$ con 784 números. Para obtener una salida $z$ de dimensión 10, podemos multiplicarlo por una matriz $W$ con dimensiones $10\\times784$: $z=W\\times x$.\n",
        "\n",
        "Sin embargo, dicha multiplicación define una transformación lineal sin desplazamiento. Imagina que solo tuviéramos un valor de entrada, entonces la matriz tendría solo un peso, y la ecuación $W\\times x$ representaría una línea recta que pasa por el punto $(0,0)$. Esto no sería capaz de realizar clasificaciones arbitrarias, porque en algunos casos también queremos que ocurra un **desplazamiento**. Eso significa que necesitamos una ecuación completa para una línea recta: $z=W\\times x + b$, donde $b$ es el **sesgo**.\n",
        "\n",
        "De manera similar, en una capa densa con 784 entradas y 10 salidas, la salida se calcularía como $W\\times x + b$, donde la dimensión de la matriz de **pesos** $W$ es $784\\times 10$, y la dimensión de un vector de **sesgo** $b$ es 10. Esto nos da $784\\times 10 + 10 = 7850$ parámetros.\n",
        "\n",
        "En Keras, podemos obtener la matriz de pesos y el sesgo desde la propiedad `layers`. Nuestra capa densa es la segunda capa desde la parte superior, por lo que se puede acceder a ella usando `model.layers[1]`."
      ]
    },
    {
      "cell_type": "code",
      "execution_count": 5,
      "metadata": {
        "collapsed": true,
        "jupyter": {
          "outputs_hidden": false,
          "source_hidden": false
        },
        "nteract": {
          "transient": {
            "deleting": false
          }
        }
      },
      "outputs": [
        {
          "data": {
            "text/plain": [
              "[<KerasVariable shape=(784, 10), dtype=float32, path=sequential/dense/kernel>,\n",
              " <KerasVariable shape=(10,), dtype=float32, path=sequential/dense/bias>]"
            ]
          },
          "execution_count": 5,
          "metadata": {},
          "output_type": "execute_result"
        }
      ],
      "source": [
        "model.layers[1].weights"
      ]
    },
    {
      "cell_type": "markdown",
      "metadata": {},
      "source": [
        "As you can see, `weights` property of a layer returns a list of all weights, in our case it is the actual weight matrix called **kernel**, and a **bias**.\n",
        "\n",
        "<br>\n",
        "\n",
        "---\n",
        "---\n",
        "---\n",
        "\n",
        "<br>\n",
        "\n",
        "Como puedes ver, la propiedad `weights` de una capa devuelve una lista de todos los pesos; en nuestro caso, es la matriz de pesos actual llamada **kernel** y un **sesgo**."
      ]
    },
    {
      "cell_type": "markdown",
      "metadata": {},
      "source": [
        "## Training the network\n",
        "\n",
        "A network defined this way can take any digit as input and produce a vector of probabilities as an output. Let's see how this network performs by giving it a digit from our dataset:\n",
        "\n",
        "<br>\n",
        "\n",
        "---\n",
        "---\n",
        "---\n",
        "\n",
        "<br>\n",
        "\n",
        "## Entrenamiento de la red\n",
        "\n",
        "Una red definida de esta manera puede tomar cualquier dígito como entrada y producir un vector de probabilidades como salida. Veamos cómo funciona esta red dándole un dígito de nuestro conjunto de datos:"
      ]
    },
    {
      "cell_type": "code",
      "execution_count": 6,
      "metadata": {},
      "outputs": [
        {
          "name": "stdout",
          "output_type": "stream",
          "text": [
            "Digit to be predicted:  5\n"
          ]
        },
        {
          "data": {
            "text/plain": [
              "<tf.Tensor: shape=(1, 10), dtype=float32, numpy=\n",
              "array([[0.06450805, 0.07660246, 0.0367136 , 0.12001358, 0.0515931 ,\n",
              "        0.10977397, 0.15581541, 0.05161706, 0.09303568, 0.24032716]],\n",
              "      dtype=float32)>"
            ]
          },
          "execution_count": 6,
          "metadata": {},
          "output_type": "execute_result"
        }
      ],
      "source": [
        "print('Digit to be predicted: ',y_train[0])\n",
        "model(np.expand_dims(x_train[0],0))"
      ]
    },
    {
      "cell_type": "markdown",
      "metadata": {},
      "source": [
        "The output of the network is the **tensor**, represented by the `ft.Tensor` object. The tensor type is very similar to a numpy array, however TensorFlow can operate on tensors very efficiently, shifting computations to GPU for better performance.\n",
        "\n",
        "> **Note**: In fact, low-level TensorFlow API contains all basic tensor operations, similar to corresponding numpy operations on arrays. For example, you can use `tf.exp` on tensors, and it would be equivalent to calling `np.exp` on numpy arrays.\n",
        "\n",
        "As you can see the network predicts similar probabilities for each digit. This is because it has not been trained on how to recognize the digits yet. We need to give it our training data to train it on our dataset.\n",
        "\n",
        "To train the model we first need to **compile** it:\n",
        "\n",
        "<br>\n",
        "\n",
        "---\n",
        "---\n",
        "---\n",
        "\n",
        "<br>\n",
        "\n",
        "La salida de la red es el **tensor**, representado por el objeto `ft.Tensor`. El tipo tensor es muy similar a un array de numpy, sin embargo, TensorFlow puede operar con tensores de manera muy eficiente, trasladando las computaciones a la GPU para un mejor rendimiento.\n",
        "\n",
        "> **Nota**: De hecho, la API de bajo nivel de TensorFlow contiene todas las operaciones básicas de tensores, similares a las operaciones correspondientes de numpy en arrays. Por ejemplo, puedes usar `tf.exp` en tensores, y sería equivalente a llamar a `np.exp` en arrays de numpy.\n",
        "\n",
        "Como puedes ver, la red predice probabilidades similares para cada dígito. Esto se debe a que aún no ha sido entrenada para reconocer los dígitos. Necesitamos proporcionarle nuestros datos de entrenamiento para entrenarla en nuestro conjunto de datos.\n",
        "\n",
        "Para entrenar el modelo, primero necesitamos **compilarlo**:"
      ]
    },
    {
      "cell_type": "code",
      "execution_count": 7,
      "metadata": {},
      "outputs": [],
      "source": [
        "model.compile(optimizer='sgd',loss='categorical_crossentropy')"
      ]
    },
    {
      "cell_type": "markdown",
      "metadata": {},
      "source": [
        "When building a model, we specify two important things:\n",
        "* An **optimizer** that will be used to minimize the error. The simplest optimizer is **stochastic gradient descent**, or SGD; but with more complex networks other optimizers are often used, such as **Adam**\n",
        "* A **loss function** will be used on the output of the network to obtain the error, which we will then minimize. For this model we will use **categorical cross-entropy** as the loss function.\n",
        "\n",
        "To train the network, we need to provide an output for each training sample. We have **multi-class classification** problem since the network outputs probabilities for each digit from 0 to 9 (digits). \n",
        "\n",
        "We need the expected outputs to have the same layout, i.e. be a 10-number vector that contains 1 in only one position. This is called **one-hot encoding**. For example, digit 5 will be one-hot-encoded by a vector (0 0 0 0 0 1 0 0 0 0).\n",
        "\n",
        "We can easily one-hot-encode training labels using Keras API:\n",
        "\n",
        "<br>\n",
        "\n",
        "---\n",
        "---\n",
        "---\n",
        "\n",
        "<br>\n",
        "\n",
        "Al construir un modelo, especificamos dos cosas importantes:\n",
        "* Un **optimizador** que se usará para minimizar el error. El optimizador más simple es el **descenso de gradiente estocástico**, o SGD; pero con redes más complejas a menudo se utilizan otros optimizadores, como **Adam**.\n",
        "* Una **función de pérdida** que se usará en la salida de la red para obtener el error, que luego minimizaremos. Para este modelo utilizaremos **entropía cruzada categórica** como la función de pérdida.\n",
        "\n",
        "Para entrenar la red, necesitamos proporcionar una salida para cada muestra de entrenamiento. Tenemos un problema de **clasificación multiclase** ya que la red produce probabilidades para cada dígito del 0 al 9 (dígitos).\n",
        "\n",
        "Necesitamos que las salidas esperadas tengan el mismo formato, es decir, que sean un vector de 10 números que contenga 1 en solo una posición. Esto se llama **codificación one-hot**. Por ejemplo, el dígito 5 se codificará en one-hot con un vector (0 0 0 0 0 1 0 0 0 0).\n",
        "\n",
        "Podemos codificar fácilmente en one-hot las etiquetas de entrenamiento utilizando la API de Keras:"
      ]
    },
    {
      "cell_type": "code",
      "execution_count": 8,
      "metadata": {},
      "outputs": [
        {
          "name": "stdout",
          "output_type": "stream",
          "text": [
            "First 3 training labels: [5 0 4]\n",
            "One-hot-encoded version:\n",
            " [[0. 0. 0. 0. 0. 1. 0. 0. 0. 0.]\n",
            " [1. 0. 0. 0. 0. 0. 0. 0. 0. 0.]\n",
            " [0. 0. 0. 0. 1. 0. 0. 0. 0. 0.]]\n"
          ]
        }
      ],
      "source": [
        "y_train_onehot = keras.utils.to_categorical(y_train)\n",
        "y_test_onehot = keras.utils.to_categorical(y_test)\n",
        "print(\"First 3 training labels:\",y_train[:3])\n",
        "print(\"One-hot-encoded version:\\n\",y_train_onehot[:3])"
      ]
    },
    {
      "cell_type": "markdown",
      "metadata": {},
      "source": [
        "Now, to do the actual training, we call the `fit` function:\n",
        "\n",
        "<br>\n",
        "\n",
        "---\n",
        "---\n",
        "---\n",
        "\n",
        "<br>\n",
        "\n",
        "Ahora, para realizar el entrenamiento propiamente dicho, llamamos a la función `fit`:\n"
      ]
    },
    {
      "cell_type": "code",
      "execution_count": 9,
      "metadata": {},
      "outputs": [
        {
          "name": "stdout",
          "output_type": "stream",
          "text": [
            "\u001b[1m1875/1875\u001b[0m \u001b[32m━━━━━━━━━━━━━━━━━━━━\u001b[0m\u001b[37m\u001b[0m \u001b[1m1s\u001b[0m 504us/step - loss: 1.1628\n"
          ]
        },
        {
          "data": {
            "text/plain": [
              "<keras.src.callbacks.history.History at 0x271d77155b0>"
            ]
          },
          "execution_count": 9,
          "metadata": {},
          "output_type": "execute_result"
        }
      ],
      "source": [
        "model.fit(x_train,y_train_onehot)"
      ]
    },
    {
      "cell_type": "markdown",
      "metadata": {},
      "source": [
        "## Monitoring training\n",
        "\n",
        "This training only loops through the dataset once, which is called one **epoch**. Normally we want training to go on for several epochs, and we can specify the number of epochs we want using a parameter.\n",
        "\n",
        "Also, it is useful to evaluate the quality of the model on test and/or a validation datasets. It's important to test the model with unseen data because this will help indicate how well the model **generalizes** to other data beyond our dataset. To evaluate the error in between epochs, we can pass in validation data:\n",
        "\n",
        "<br>\n",
        "\n",
        "---\n",
        "---\n",
        "---\n",
        "\n",
        "<br>\n",
        "\n",
        "## Monitoreo del entrenamiento\n",
        "\n",
        "Este entrenamiento solo recorre el conjunto de datos una vez, lo que se llama una **época**. Normalmente, queremos que el entrenamiento continúe durante varias épocas, y podemos especificar el número de épocas que deseamos utilizando un parámetro.\n",
        "\n",
        "Además, es útil evaluar la calidad del modelo en los conjuntos de datos de prueba y/o validación. Es importante probar el modelo con datos no vistos porque esto ayudará a indicar qué tan bien el modelo **generaliza** a otros datos más allá de nuestro conjunto de datos. Para evaluar el error entre épocas, podemos pasar datos de validación:"
      ]
    },
    {
      "cell_type": "code",
      "execution_count": 10,
      "metadata": {},
      "outputs": [
        {
          "name": "stdout",
          "output_type": "stream",
          "text": [
            "Epoch 1/3\n",
            "\u001b[1m1875/1875\u001b[0m \u001b[32m━━━━━━━━━━━━━━━━━━━━\u001b[0m\u001b[37m\u001b[0m \u001b[1m1s\u001b[0m 669us/step - loss: 0.4773 - val_loss: 0.4002\n",
            "Epoch 2/3\n",
            "\u001b[1m1875/1875\u001b[0m \u001b[32m━━━━━━━━━━━━━━━━━━━━\u001b[0m\u001b[37m\u001b[0m \u001b[1m1s\u001b[0m 583us/step - loss: 0.4151 - val_loss: 0.3657\n",
            "Epoch 3/3\n",
            "\u001b[1m1875/1875\u001b[0m \u001b[32m━━━━━━━━━━━━━━━━━━━━\u001b[0m\u001b[37m\u001b[0m \u001b[1m1s\u001b[0m 592us/step - loss: 0.3788 - val_loss: 0.3477\n"
          ]
        }
      ],
      "source": [
        "hist = model.fit(x_train,y_train_onehot,validation_data=(x_test,y_test_onehot), epochs=3)"
      ]
    },
    {
      "cell_type": "markdown",
      "metadata": {},
      "source": [
        "The `fit` function returns the **history** object that contains the loss data for each training epoch. It can be used to visualize the loss on the graph:\n",
        "\n",
        "<br>\n",
        "\n",
        "---\n",
        "---\n",
        "---\n",
        "\n",
        "<br>\n",
        "\n",
        "La función `fit` devuelve el objeto **history** que contiene los datos de pérdida para cada época de entrenamiento. Se puede usar para visualizar la pérdida en un gráfico:"
      ]
    },
    {
      "cell_type": "code",
      "execution_count": 11,
      "metadata": {},
      "outputs": [
        {
          "data": {
            "image/png": "[encoded data removed]",
            "text/plain": [
              "<Figure size 640x480 with 1 Axes>"
            ]
          },
          "metadata": {},
          "output_type": "display_data"
        }
      ],
      "source": [
        "for x in ['loss','val_loss']:\n",
        "    plt.plot(hist.history[x])"
      ]
    },
    {
      "cell_type": "markdown",
      "metadata": {},
      "source": [
        "## Metrics and Minibatches\n",
        "\n",
        "The value of the loss function does not tell us a lot about the accuracy of the model. To measure accuracy, we would want to see the percentage of correctly classified digits from the test dataset. In fact, we can add accuracy as a **metric** during dataset compilation, and it would be displayed and reported all the way through the training:\n",
        "\n",
        "<br>\n",
        "\n",
        "---\n",
        "---\n",
        "---\n",
        "\n",
        "<br>\n",
        "\n",
        "## Métricas y Minilotes\n",
        "\n",
        "El valor de la función de pérdida no nos dice mucho sobre la precisión del modelo. Para medir la precisión, querríamos ver el porcentaje de dígitos clasificados correctamente en el conjunto de datos de prueba. De hecho, podemos agregar la precisión como una **métrica** durante la compilación del conjunto de datos, y se mostraría e informaría a lo largo de todo el entrenamiento."
      ]
    },
    {
      "cell_type": "code",
      "execution_count": 12,
      "metadata": {},
      "outputs": [
        {
          "name": "stdout",
          "output_type": "stream",
          "text": [
            "Epoch 1/3\n",
            "\u001b[1m469/469\u001b[0m \u001b[32m━━━━━━━━━━━━━━━━━━━━\u001b[0m\u001b[37m\u001b[0m \u001b[1m1s\u001b[0m 1ms/step - acc: 0.9001 - loss: 0.3631 - val_acc: 0.9066 - val_loss: 0.3433\n",
            "Epoch 2/3\n",
            "\u001b[1m469/469\u001b[0m \u001b[32m━━━━━━━━━━━━━━━━━━━━\u001b[0m\u001b[37m\u001b[0m \u001b[1m0s\u001b[0m 971us/step - acc: 0.9030 - loss: 0.3558 - val_acc: 0.9072 - val_loss: 0.3398\n",
            "Epoch 3/3\n",
            "\u001b[1m469/469\u001b[0m \u001b[32m━━━━━━━━━━━━━━━━━━━━\u001b[0m\u001b[37m\u001b[0m \u001b[1m0s\u001b[0m 993us/step - acc: 0.9008 - loss: 0.3594 - val_acc: 0.9084 - val_loss: 0.3370\n"
          ]
        }
      ],
      "source": [
        "model.compile(optimizer='sgd',loss='categorical_crossentropy',metrics=['acc'])\n",
        "hist = model.fit(x_train,y_train_onehot,validation_data=(x_test,y_test_onehot), epochs=3,batch_size=128)"
      ]
    },
    {
      "cell_type": "markdown",
      "metadata": {},
      "source": [
        "In addition to using new accuracy metrics, we have specified `batch_size` parameter to define the number of samples that are being processed by the neural network at once. Since GPU computations are easily parallelizable, it is much more efficient to process several samples in one go. Larger minibatch size significantly speeds up learning process, but also makes it a little bit less precise. This is due to the fact that the direction of optimization is selected for the whole minibatch, and not for each individual sample. Thus, choosing minibatch size is quite tricky, and it remains one of the hyperparameters that can be further optimized to achieve better performance. \n",
        "\n",
        "## Specifying Optimizer Parameters\n",
        "\n",
        "In the previous call to `compile`, we have been specifying optimizer, loss and metrics using keyword abbreviations, such as `sgd`. However, sometimes we might want to do some fine-tuning to optimizer parameters, or use custom loss function. In such cases, it is possible to pass objects instead of string abbreviations.\n",
        "\n",
        "Let's use a variation of stochastic gradient descent, which is called **momentum SGD**. The idea is that the gradients of loss function will be averaged over the last few steps in order to keep the momentum, and make optimization more smooth. To turn our gradient descent into momentum SGD, we need to create `SDG` optimizer object explicitly, provide `momentum` parameter, and pass this object to `compile` method.\n",
        "\n",
        "<br>\n",
        "\n",
        "---\n",
        "---\n",
        "---\n",
        "\n",
        "<br>\n",
        "\n",
        "Además de utilizar nuevas métricas de precisión, hemos especificado el parámetro `batch_size` para definir la cantidad de muestras que están siendo procesadas por la red neuronal a la vez. Dado que los cálculos en GPU son fácilmente paralelizables, es mucho más eficiente procesar varias muestras de una sola vez. Un tamaño de minilote más grande acelera significativamente el proceso de aprendizaje, pero también lo hace un poco menos preciso. Esto se debe al hecho de que la dirección de optimización se selecciona para todo el minilote, y no para cada muestra individual. Por lo tanto, elegir el tamaño del minilote es bastante complicado, y sigue siendo uno de los hiperparámetros que se pueden optimizar para lograr un mejor rendimiento.\n",
        "\n",
        "## Especificación de Parámetros del Optimizador\n",
        "\n",
        "En la llamada anterior a `compile`, hemos estado especificando el optimizador, la función de pérdida y las métricas utilizando abreviaturas de palabras clave, como `sgd`. Sin embargo, a veces podemos querer ajustar los parámetros del optimizador o utilizar una función de pérdida personalizada. En tales casos, es posible pasar objetos en lugar de abreviaturas de cadenas.\n",
        "\n",
        "Vamos a usar una variación del descenso de gradiente estocástico, que se llama **SGD con momento**. La idea es que los gradientes de la función de pérdida se promediarán en los últimos pasos para mantener el impulso y hacer que la optimización sea más fluida. Para convertir nuestro descenso de gradiente en SGD con momento, necesitamos crear explícitamente un objeto optimizador `SGD`, proporcionar el parámetro `momentum`, y pasar este objeto al método `compile`."
      ]
    },
    {
      "cell_type": "code",
      "execution_count": 13,
      "metadata": {},
      "outputs": [
        {
          "name": "stdout",
          "output_type": "stream",
          "text": [
            "Epoch 1/5\n",
            "\u001b[1m938/938\u001b[0m \u001b[32m━━━━━━━━━━━━━━━━━━━━\u001b[0m\u001b[37m\u001b[0m \u001b[1m1s\u001b[0m 888us/step - acc: 0.7121 - loss: 1.1421 - val_acc: 0.8803 - val_loss: 0.4822\n",
            "Epoch 2/5\n",
            "\u001b[1m938/938\u001b[0m \u001b[32m━━━━━━━━━━━━━━━━━━━━\u001b[0m\u001b[37m\u001b[0m \u001b[1m1s\u001b[0m 754us/step - acc: 0.8752 - loss: 0.4819 - val_acc: 0.8946 - val_loss: 0.4007\n",
            "Epoch 3/5\n",
            "\u001b[1m938/938\u001b[0m \u001b[32m━━━━━━━━━━━━━━━━━━━━\u001b[0m\u001b[37m\u001b[0m \u001b[1m1s\u001b[0m 827us/step - acc: 0.8914 - loss: 0.4064 - val_acc: 0.9005 - val_loss: 0.3676\n",
            "Epoch 4/5\n",
            "\u001b[1m938/938\u001b[0m \u001b[32m━━━━━━━━━━━━━━━━━━━━\u001b[0m\u001b[37m\u001b[0m \u001b[1m1s\u001b[0m 802us/step - acc: 0.8957 - loss: 0.3791 - val_acc: 0.9064 - val_loss: 0.3488\n",
            "Epoch 5/5\n",
            "\u001b[1m938/938\u001b[0m \u001b[32m━━━━━━━━━━━━━━━━━━━━\u001b[0m\u001b[37m\u001b[0m \u001b[1m1s\u001b[0m 790us/step - acc: 0.8971 - loss: 0.3673 - val_acc: 0.9094 - val_loss: 0.3355\n"
          ]
        }
      ],
      "source": [
        "model = keras.models.Sequential([\n",
        "        keras.layers.Flatten(input_shape=(28,28)), \n",
        "        keras.layers.Dense(10,activation='softmax')])\n",
        "model.compile(optimizer=keras.optimizers.SGD(momentum=0.5),loss='categorical_crossentropy',metrics=['acc'])\n",
        "hist = model.fit(x_train,y_train_onehot,validation_data=(x_test,y_test_onehot), epochs=5, batch_size=64)  "
      ]
    },
    {
      "cell_type": "code",
      "execution_count": 14,
      "metadata": {},
      "outputs": [
        {
          "data": {
            "image/png": "[encoded data removed]",
            "text/plain": [
              "<Figure size 640x480 with 1 Axes>"
            ]
          },
          "metadata": {},
          "output_type": "display_data"
        }
      ],
      "source": [
        "for x in ['acc','val_acc']:\n",
        "    plt.plot(hist.history[x])"
      ]
    },
    {
      "cell_type": "markdown",
      "metadata": {},
      "source": [
        "## Visualizing network weights\n",
        "\n",
        "Now let's visualize the weights of our neural network and see what they look like. When the network is more complex than just one layer, making sense of the weight data is more difficult. However, in this example of classifying a digit in a one-layered perceptron happens by multiplying the initial image by a weight matrix, which allows us to visualize the network weights and see if they make any sense.\n",
        "\n",
        "Let's create a `weight_tensor` which will have a dimension of 784x10. This tensor can be obtained by calling the `net.parameters()` method. In this example, if we want to see if our number is 0 or not, we will multiply input digit by `weight_tensor[0]` and pass the result through a softmax normalization to get the answer. This results in the weight tensor elements somewhat resembling the average shape of the digit it classifies:\n",
        "\n",
        "<br>\n",
        "\n",
        "---\n",
        "---\n",
        "---\n",
        "\n",
        "<br>\n",
        "\n",
        "## Visualización de los pesos de la red\n",
        "\n",
        "Ahora, vamos a visualizar los pesos de nuestra red neuronal y ver cómo se ven. Cuando la red es más compleja que solo una capa, interpretar los datos de los pesos es más difícil. Sin embargo, en este ejemplo de clasificación de un dígito en un perceptrón de una capa, se realiza multiplicando la imagen inicial por una matriz de pesos, lo que nos permite visualizar los pesos de la red y ver si tienen algún sentido.\n",
        "\n",
        "Vamos a crear un `weight_tensor` que tendrá una dimensión de 784x10. Este tensor se puede obtener llamando al método `net.parameters()`. En este ejemplo, si queremos ver si nuestro número es 0 o no, multiplicaremos el dígito de entrada por `weight_tensor[0]` y pasaremos el resultado a través de una normalización softmax para obtener la respuesta. Esto da como resultado que los elementos del tensor de pesos se asemejen un poco a la forma promedio del dígito que clasifica."
      ]
    },
    {
      "cell_type": "code",
      "execution_count": 15,
      "metadata": {},
      "outputs": [
        {
          "data": {
            "image/png": "[encoded data removed]",
            "text/plain": [
              "<Figure size 1500x400 with 10 Axes>"
            ]
          },
          "metadata": {},
          "output_type": "display_data"
        }
      ],
      "source": [
        "weight_tensor = model.layers[1].weights[0].numpy().reshape(28,28,10)\n",
        "fig,ax = plt.subplots(1,10,figsize=(15,4))\n",
        "for i in range(10):\n",
        "    ax[i].imshow(weight_tensor[:,:,i])\n",
        "    ax[i].axis('off')"
      ]
    },
    {
      "cell_type": "markdown",
      "metadata": {},
      "source": [
        "## Takeaway \n",
        "\n",
        "Training a neural network in Keras requires just one line of code and tweaking a few parameters. We can see that a single-layer dense neural network shows relatively good performance, but we definitely want to get higher than 91% on accuracy! In the next unit, we will try to use multi-level perceptrons.\n",
        "\n",
        "<br>\n",
        "\n",
        "---\n",
        "---\n",
        "---\n",
        "\n",
        "<br>\n",
        "\n",
        "## Conclusión\n",
        "\n",
        "Entrenar una red neuronal en Keras requiere solo una línea de código y ajustar algunos parámetros. Podemos ver que una red neuronal densa de una sola capa muestra un rendimiento relativamente bueno, ¡pero definitivamente queremos superar el 91% de precisión! En la próxima unidad, intentaremos utilizar perceptrones multicapa."
      ]
    }
  ],
  "metadata": {
    "kernel_info": {
      "name": "conda-env-py38_default-py"
    },
    "kernelspec": {
      "display_name": ".venv",
      "language": "python",
      "name": "python3"
    },
    "language_info": {
      "codemirror_mode": {
        "name": "ipython",
        "version": 3
      },
      "file_extension": ".py",
      "mimetype": "text/x-python",
      "name": "python",
      "nbconvert_exporter": "python",
      "pygments_lexer": "ipython3",
      "version": "3.12.1"
    },
    "nteract": {
      "version": "nteract-front-end@1.0.0"
    },
    "orig_nbformat": 4
  },
  "nbformat": 4,
  "nbformat_minor": 2
}
